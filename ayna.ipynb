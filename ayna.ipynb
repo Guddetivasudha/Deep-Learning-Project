{
  "nbformat": 4,
  "nbformat_minor": 0,
  "metadata": {
    "colab": {
      "provenance": [],
      "gpuType": "T4"
    },
    "kernelspec": {
      "name": "python3",
      "display_name": "Python 3"
    },
    "language_info": {
      "name": "python"
    },
    "accelerator": "GPU"
  },
  "cells": [
    {
      "cell_type": "code",
      "execution_count": 3,
      "metadata": {
        "colab": {
          "base_uri": "https://localhost:8080/",
          "height": 217
        },
        "id": "ZsvAunYIY_-K",
        "outputId": "8e1712fa-5757-42db-c5cd-ad0bc0852595"
      },
      "outputs": [
        {
          "output_type": "display_data",
          "data": {
            "text/plain": [
              "<IPython.core.display.Javascript object>"
            ],
            "application/javascript": [
              "\n",
              "        window._wandbApiKey = new Promise((resolve, reject) => {\n",
              "            function loadScript(url) {\n",
              "            return new Promise(function(resolve, reject) {\n",
              "                let newScript = document.createElement(\"script\");\n",
              "                newScript.onerror = reject;\n",
              "                newScript.onload = resolve;\n",
              "                document.body.appendChild(newScript);\n",
              "                newScript.src = url;\n",
              "            });\n",
              "            }\n",
              "            loadScript(\"https://cdn.jsdelivr.net/npm/postmate/build/postmate.min.js\").then(() => {\n",
              "            const iframe = document.createElement('iframe')\n",
              "            iframe.style.cssText = \"width:0;height:0;border:none\"\n",
              "            document.body.appendChild(iframe)\n",
              "            const handshake = new Postmate({\n",
              "                container: iframe,\n",
              "                url: 'https://wandb.ai/authorize'\n",
              "            });\n",
              "            const timeout = setTimeout(() => reject(\"Couldn't auto authenticate\"), 5000)\n",
              "            handshake.then(function(child) {\n",
              "                child.on('authorize', data => {\n",
              "                    clearTimeout(timeout)\n",
              "                    resolve(data)\n",
              "                });\n",
              "            });\n",
              "            })\n",
              "        });\n",
              "    "
            ]
          },
          "metadata": {}
        },
        {
          "output_type": "stream",
          "name": "stderr",
          "text": [
            "\u001b[34m\u001b[1mwandb\u001b[0m: Logging into wandb.ai. (Learn how to deploy a W&B server locally: https://wandb.me/wandb-server)\n",
            "\u001b[34m\u001b[1mwandb\u001b[0m: You can find your API key in your browser here: https://wandb.ai/authorize\n",
            "wandb: Paste an API key from your profile and hit enter:"
          ]
        },
        {
          "name": "stdout",
          "output_type": "stream",
          "text": [
            " ··········\n"
          ]
        },
        {
          "output_type": "stream",
          "name": "stderr",
          "text": [
            "\u001b[34m\u001b[1mwandb\u001b[0m: \u001b[33mWARNING\u001b[0m If you're specifying your api key in code, ensure this code is not shared publicly.\n",
            "\u001b[34m\u001b[1mwandb\u001b[0m: \u001b[33mWARNING\u001b[0m Consider setting the WANDB_API_KEY environment variable, or running `wandb login` from the command line.\n",
            "\u001b[34m\u001b[1mwandb\u001b[0m: No netrc file found, creating one.\n",
            "\u001b[34m\u001b[1mwandb\u001b[0m: Appending key for api.wandb.ai to your netrc file: /root/.netrc\n",
            "\u001b[34m\u001b[1mwandb\u001b[0m: Currently logged in as: \u001b[33mgvasusuresh004\u001b[0m (\u001b[33mgvasusuresh004-intellipaat\u001b[0m) to \u001b[32mhttps://api.wandb.ai\u001b[0m. Use \u001b[1m`wandb login --relogin`\u001b[0m to force relogin\n"
          ]
        },
        {
          "output_type": "execute_result",
          "data": {
            "text/plain": [
              "True"
            ]
          },
          "metadata": {},
          "execution_count": 3
        }
      ],
      "source": [
        "# Install required packages\n",
        "!pip install wandb --quiet\n",
        "import wandb\n",
        "wandb.login()  # You will be prompted to log in\n"
      ]
    },
    {
      "cell_type": "code",
      "source": [
        "# # Unzip only once if not already done\n",
        "# !unzip -q dataset.zip -d .\n",
        "\n",
        "# # Check files\n",
        "# import os\n",
        "# # os.listdir(\"dataset/dataset/training/inputs\")\n"
      ],
      "metadata": {
        "id": "3_58zH65aLEL"
      },
      "execution_count": 4,
      "outputs": []
    },
    {
      "cell_type": "markdown",
      "source": [
        "###  **1. Importing Required Libraries**\n",
        "We import essential libraries for file handling, image processing, data loading, modeling, and visualization.\n",
        "###  **2. Setting Random Seed and Device**\n",
        "We set seeds for reproducibility and assign the computation device (GPU if available).\n",
        "\n"
      ],
      "metadata": {
        "id": "9HHhL81zRdZD"
      }
    },
    {
      "cell_type": "code",
      "source": [
        "import os\n",
        "import json\n",
        "import random\n",
        "import numpy as np\n",
        "from PIL import Image, ImageEnhance\n",
        "\n",
        "import torch\n",
        "import torch.nn as nn\n",
        "import torch.nn.functional as F\n",
        "from torch.utils.data import Dataset, DataLoader\n",
        "from torchvision import transforms\n",
        "import matplotlib.pyplot as plt\n",
        "\n",
        "# Set seed\n",
        "random.seed(42)\n",
        "torch.manual_seed(42)\n",
        "\n",
        "device = torch.device(\"cuda\" if torch.cuda.is_available() else \"cpu\")"
      ],
      "metadata": {
        "id": "oTZS5kxG4gjk"
      },
      "execution_count": 5,
      "outputs": []
    },
    {
      "cell_type": "markdown",
      "source": [
        "### **3. Define Color Map and Utility Function**\n",
        "This block defines RGB values for each color name and a utility function to create a color image tensor for conditioning.\n"
      ],
      "metadata": {
        "id": "RDH06YxJRjvs"
      }
    },
    {
      "cell_type": "code",
      "source": [
        "COLOR_MAP = {\n",
        "    'red': [1, 0, 0],\n",
        "    'green': [0, 1, 0],\n",
        "    'blue': [0, 0, 1],\n",
        "    'yellow': [1, 1, 0],\n",
        "    'cyan': [0, 1, 1],\n",
        "    'magenta': [1, 0, 1],\n",
        "    'black': [0, 0, 0],\n",
        "    'white': [1, 1, 1],\n",
        "    'orange': [1, 0.5, 0], # Add orange to the color map\n",
        "    'purple': [0.5, 0, 0.5], # Add purple to the color map\n",
        "}\n",
        "def get_color_tensor(color_name, size=(128, 128)):\n",
        "    color = COLOR_MAP[color_name.lower()]\n",
        "    color_array = np.array(color, dtype=np.uint8).reshape(1, 3, 1, 1)\n",
        "    color_image = np.tile(color_array, (1, 1, size[0], size[1])) / 255.0\n",
        "    return torch.tensor(color_image, dtype=torch.float32).squeeze(0)"
      ],
      "metadata": {
        "id": "mIdFQKFX4ggL"
      },
      "execution_count": 6,
      "outputs": []
    },
    {
      "cell_type": "markdown",
      "source": [
        "### **4. Custom Dataset Class (`PolygonColorDataset`)**\n",
        "This custom PyTorch `Dataset` loads input polygon images, color conditions, and output images. It forms a 6-channel input by concatenating the polygon and color image.\n"
      ],
      "metadata": {
        "id": "xjbNF_WeRzjX"
      }
    },
    {
      "cell_type": "code",
      "source": [
        "class PolygonColorDataset(Dataset):\n",
        "    def __init__(self, data_dir, json_file, transform=None):\n",
        "        self.data_dir = data_dir\n",
        "        self.transform = transform\n",
        "        with open(json_file) as f:\n",
        "            self.data = json.load(f)\n",
        "\n",
        "    def __len__(self):\n",
        "        return len(self.data)\n",
        "\n",
        "    def __getitem__(self, idx):\n",
        "        item = self.data[idx]\n",
        "        input_path = os.path.join(self.data_dir, 'inputs', item['input_polygon'])\n",
        "        output_path = os.path.join(self.data_dir, 'outputs', item['output_image'])\n",
        "        color_name = item['colour']\n",
        "\n",
        "        input_img = Image.open(input_path).convert('RGB')\n",
        "        output_img = Image.open(output_path).convert('RGB')\n",
        "\n",
        "        if self.transform:\n",
        "            input_img = self.transform(input_img)\n",
        "            output_img = self.transform(output_img)\n",
        "\n",
        "        color_tensor = get_color_tensor(color_name)\n",
        "        combined_input = torch.cat((input_img, color_tensor), dim=0)  # Shape: [6, H, W]\n",
        "\n",
        "        return combined_input, output_img\n"
      ],
      "metadata": {
        "id": "fJfUTRn04gdh"
      },
      "execution_count": 7,
      "outputs": []
    },
    {
      "cell_type": "markdown",
      "source": [
        "### **5. Define Transformations and Create Datasets**\n",
        "We apply resizing and normalization transforms and create training/validation dataset instances.\n",
        "###  **6. Creating DataLoaders**\n",
        "We use PyTorch `DataLoader` to load data in mini-batches for both training and validation.\n",
        "\n"
      ],
      "metadata": {
        "id": "xXU9iX_eR314"
      }
    },
    {
      "cell_type": "code",
      "source": [
        "transform = transforms.Compose([\n",
        "    transforms.Resize((128, 128)),\n",
        "    transforms.ToTensor()\n",
        "])\n",
        "\n",
        "train_dataset = PolygonColorDataset(\n",
        "    data_dir='dataset/training',\n",
        "    json_file='dataset/training/data.json',\n",
        "    transform=transform\n",
        ")\n",
        "\n",
        "val_dataset = PolygonColorDataset(\n",
        "    data_dir='dataset/validation',\n",
        "    json_file='dataset/validation/data.json',\n",
        "    transform=transform\n",
        ")\n",
        "\n",
        "train_loader = DataLoader(train_dataset, batch_size=8, shuffle=True)\n",
        "val_loader = DataLoader(val_dataset, batch_size=8, shuffle=False)\n"
      ],
      "metadata": {
        "id": "i3ojIx8d4gZ0"
      },
      "execution_count": 8,
      "outputs": []
    },
    {
      "cell_type": "markdown",
      "source": [
        "### **7. UNet Block Definition**\n",
        "This defines a reusable convolutional block consisting of Conv2d, BatchNorm, and ReLU layers used throughout the UNet architecture.\n",
        "### **8. Full UNet Architecture**\n",
        "Here, we define the UNet model with encoder-decoder structure and skip connections. It takes 6-channel input and outputs a 3-channel RGB image.\n",
        "\n"
      ],
      "metadata": {
        "id": "jEx7-2YdSAhW"
      }
    },
    {
      "cell_type": "code",
      "source": [
        "class UNetBlock(nn.Module):\n",
        "    def __init__(self, in_ch, out_ch):\n",
        "        super().__init__()\n",
        "        self.conv = nn.Sequential(\n",
        "            nn.Conv2d(in_ch, out_ch, kernel_size=3, padding=1),\n",
        "            nn.BatchNorm2d(out_ch),\n",
        "            nn.ReLU(inplace=True),\n",
        "            nn.Conv2d(out_ch, out_ch, kernel_size=3, padding=1),\n",
        "            nn.BatchNorm2d(out_ch),\n",
        "            nn.ReLU(inplace=True)\n",
        "        )\n",
        "\n",
        "    def forward(self, x):\n",
        "        return self.conv(x)\n",
        "\n",
        "class UNet(nn.Module):\n",
        "    def __init__(self):\n",
        "        super().__init__()\n",
        "        self.enc1 = UNetBlock(6, 64)\n",
        "        self.enc2 = UNetBlock(64, 128)\n",
        "        self.enc3 = UNetBlock(128, 256)\n",
        "        self.pool = nn.MaxPool2d(2)\n",
        "\n",
        "        self.bottleneck = UNetBlock(256, 512)\n",
        "\n",
        "        self.up3 = nn.ConvTranspose2d(512, 256, 2, stride=2)\n",
        "        self.dec3 = UNetBlock(512, 256)\n",
        "        self.up2 = nn.ConvTranspose2d(256, 128, 2, stride=2)\n",
        "        self.dec2 = UNetBlock(256, 128)\n",
        "        self.up1 = nn.ConvTranspose2d(128, 64, 2, stride=2)\n",
        "        self.dec1 = UNetBlock(128, 64)\n",
        "\n",
        "        self.final = nn.Conv2d(64, 3, kernel_size=1)\n",
        "\n",
        "    def forward(self, x):\n",
        "        e1 = self.enc1(x)\n",
        "        e2 = self.enc2(self.pool(e1))\n",
        "        e3 = self.enc3(self.pool(e2))\n",
        "\n",
        "        b = self.bottleneck(self.pool(e3))\n",
        "\n",
        "        d3 = self.dec3(torch.cat([self.up3(b), e3], dim=1))\n",
        "        d2 = self.dec2(torch.cat([self.up2(d3), e2], dim=1))\n",
        "        d1 = self.dec1(torch.cat([self.up1(d2), e1], dim=1))\n",
        "\n",
        "        return self.final(d1)\n"
      ],
      "metadata": {
        "id": "N6oMq9-H4gXB"
      },
      "execution_count": 9,
      "outputs": []
    },
    {
      "cell_type": "markdown",
      "source": [
        "### **9. Model Initialization and Training Configuration**\n",
        "We initialize the UNet model, set the loss function (L1 loss), and define the optimizer (Adam).\n",
        "### **10. Training Loop**\n",
        "Performs training for a fixed number of epochs. Tracks training and validation loss across epochs and prints them.\n",
        "\n"
      ],
      "metadata": {
        "id": "2T9oYFb8SEXS"
      }
    },
    {
      "cell_type": "code",
      "source": [
        "device = torch.device(\"cuda\" if torch.cuda.is_available() else \"cpu\")\n",
        "model = UNet().to(device)\n",
        "optimizer = torch.optim.Adam(model.parameters(), lr=1e-4)\n",
        "criterion = nn.L1Loss()\n",
        "\n",
        "for epoch in range(100):\n",
        "    model.train()\n",
        "    total_loss = 0\n",
        "    for inputs, targets in train_loader:\n",
        "        inputs, targets = inputs.to(device), targets.to(device)\n",
        "        optimizer.zero_grad()\n",
        "        outputs = model(inputs)\n",
        "        loss = criterion(outputs, targets)\n",
        "        loss.backward()\n",
        "        optimizer.step()\n",
        "        total_loss += loss.item()\n",
        "\n",
        "    print(f\"Epoch {epoch+1}, Train Loss: {total_loss / len(train_loader):.4f}\")\n",
        "\n",
        "    model.eval()\n",
        "    val_loss = 0\n",
        "    with torch.no_grad():\n",
        "        for inputs, targets in val_loader:\n",
        "            inputs, targets = inputs.to(device), targets.to(device)\n",
        "            outputs = model(inputs)\n",
        "            val_loss += criterion(outputs, targets).item()\n",
        "\n",
        "    print(f\"Validation Loss: {val_loss / len(val_loader):.4f}\")\n"
      ],
      "metadata": {
        "colab": {
          "base_uri": "https://localhost:8080/"
        },
        "id": "fY6VEpUi4gUV",
        "outputId": "0a715630-b03c-41f7-e53c-8d8484fd3c7a"
      },
      "execution_count": 10,
      "outputs": [
        {
          "output_type": "stream",
          "name": "stdout",
          "text": [
            "Epoch 1, Train Loss: 1.0101\n",
            "Validation Loss: 0.9788\n",
            "Epoch 2, Train Loss: 0.9090\n",
            "Validation Loss: 0.9387\n",
            "Epoch 3, Train Loss: 0.8499\n",
            "Validation Loss: 0.8816\n",
            "Epoch 4, Train Loss: 0.8035\n",
            "Validation Loss: 0.8274\n",
            "Epoch 5, Train Loss: 0.7629\n",
            "Validation Loss: 0.7764\n",
            "Epoch 6, Train Loss: 0.7176\n",
            "Validation Loss: 0.7161\n",
            "Epoch 7, Train Loss: 0.6708\n",
            "Validation Loss: 0.6634\n",
            "Epoch 8, Train Loss: 0.6331\n",
            "Validation Loss: 0.6174\n",
            "Epoch 9, Train Loss: 0.6044\n",
            "Validation Loss: 0.5768\n",
            "Epoch 10, Train Loss: 0.5763\n",
            "Validation Loss: 0.5377\n",
            "Epoch 11, Train Loss: 0.5562\n",
            "Validation Loss: 0.5291\n",
            "Epoch 12, Train Loss: 0.5337\n",
            "Validation Loss: 0.5039\n",
            "Epoch 13, Train Loss: 0.5109\n",
            "Validation Loss: 0.4849\n",
            "Epoch 14, Train Loss: 0.4966\n",
            "Validation Loss: 0.4692\n",
            "Epoch 15, Train Loss: 0.4754\n",
            "Validation Loss: 0.4611\n",
            "Epoch 16, Train Loss: 0.4579\n",
            "Validation Loss: 0.4297\n",
            "Epoch 17, Train Loss: 0.4384\n",
            "Validation Loss: 0.4057\n",
            "Epoch 18, Train Loss: 0.4243\n",
            "Validation Loss: 0.3946\n",
            "Epoch 19, Train Loss: 0.4070\n",
            "Validation Loss: 0.3826\n",
            "Epoch 20, Train Loss: 0.3935\n",
            "Validation Loss: 0.3622\n",
            "Epoch 21, Train Loss: 0.3729\n",
            "Validation Loss: 0.3451\n",
            "Epoch 22, Train Loss: 0.3552\n",
            "Validation Loss: 0.3301\n",
            "Epoch 23, Train Loss: 0.3421\n",
            "Validation Loss: 0.3349\n",
            "Epoch 24, Train Loss: 0.3220\n",
            "Validation Loss: 0.2927\n",
            "Epoch 25, Train Loss: 0.3062\n",
            "Validation Loss: 0.2869\n",
            "Epoch 26, Train Loss: 0.2924\n",
            "Validation Loss: 0.2662\n",
            "Epoch 27, Train Loss: 0.2778\n",
            "Validation Loss: 0.2632\n",
            "Epoch 28, Train Loss: 0.2670\n",
            "Validation Loss: 0.2403\n",
            "Epoch 29, Train Loss: 0.2548\n",
            "Validation Loss: 0.2295\n",
            "Epoch 30, Train Loss: 0.2428\n",
            "Validation Loss: 0.2332\n",
            "Epoch 31, Train Loss: 0.2335\n",
            "Validation Loss: 0.2161\n",
            "Epoch 32, Train Loss: 0.2220\n",
            "Validation Loss: 0.2228\n",
            "Epoch 33, Train Loss: 0.2098\n",
            "Validation Loss: 0.2211\n",
            "Epoch 34, Train Loss: 0.1982\n",
            "Validation Loss: 0.1834\n",
            "Epoch 35, Train Loss: 0.1941\n",
            "Validation Loss: 0.1737\n",
            "Epoch 36, Train Loss: 0.1862\n",
            "Validation Loss: 0.1803\n",
            "Epoch 37, Train Loss: 0.1743\n",
            "Validation Loss: 0.1678\n",
            "Epoch 38, Train Loss: 0.1667\n",
            "Validation Loss: 0.1407\n",
            "Epoch 39, Train Loss: 0.1572\n",
            "Validation Loss: 0.1371\n",
            "Epoch 40, Train Loss: 0.1457\n",
            "Validation Loss: 0.1363\n",
            "Epoch 41, Train Loss: 0.1406\n",
            "Validation Loss: 0.1237\n",
            "Epoch 42, Train Loss: 0.1362\n",
            "Validation Loss: 0.1224\n",
            "Epoch 43, Train Loss: 0.1292\n",
            "Validation Loss: 0.1371\n",
            "Epoch 44, Train Loss: 0.1477\n",
            "Validation Loss: 0.2020\n",
            "Epoch 45, Train Loss: 0.1340\n",
            "Validation Loss: 0.1328\n",
            "Epoch 46, Train Loss: 0.1195\n",
            "Validation Loss: 0.1215\n",
            "Epoch 47, Train Loss: 0.1199\n",
            "Validation Loss: 0.1266\n",
            "Epoch 48, Train Loss: 0.1111\n",
            "Validation Loss: 0.1115\n",
            "Epoch 49, Train Loss: 0.1108\n",
            "Validation Loss: 0.1079\n",
            "Epoch 50, Train Loss: 0.1091\n",
            "Validation Loss: 0.1031\n",
            "Epoch 51, Train Loss: 0.1087\n",
            "Validation Loss: 0.1089\n",
            "Epoch 52, Train Loss: 0.1013\n",
            "Validation Loss: 0.0977\n",
            "Epoch 53, Train Loss: 0.0987\n",
            "Validation Loss: 0.0882\n",
            "Epoch 54, Train Loss: 0.0921\n",
            "Validation Loss: 0.0991\n",
            "Epoch 55, Train Loss: 0.0981\n",
            "Validation Loss: 0.1537\n",
            "Epoch 56, Train Loss: 0.0909\n",
            "Validation Loss: 0.0878\n",
            "Epoch 57, Train Loss: 0.0925\n",
            "Validation Loss: 0.1500\n",
            "Epoch 58, Train Loss: 0.0924\n",
            "Validation Loss: 0.1542\n",
            "Epoch 59, Train Loss: 0.0938\n",
            "Validation Loss: 0.0635\n",
            "Epoch 60, Train Loss: 0.0905\n",
            "Validation Loss: 0.0681\n",
            "Epoch 61, Train Loss: 0.0833\n",
            "Validation Loss: 0.0643\n",
            "Epoch 62, Train Loss: 0.0825\n",
            "Validation Loss: 0.0575\n",
            "Epoch 63, Train Loss: 0.0773\n",
            "Validation Loss: 0.0589\n",
            "Epoch 64, Train Loss: 0.0767\n",
            "Validation Loss: 0.0662\n",
            "Epoch 65, Train Loss: 0.0759\n",
            "Validation Loss: 0.0804\n",
            "Epoch 66, Train Loss: 0.0811\n",
            "Validation Loss: 0.0788\n",
            "Epoch 67, Train Loss: 0.0812\n",
            "Validation Loss: 0.0615\n",
            "Epoch 68, Train Loss: 0.0716\n",
            "Validation Loss: 0.0947\n",
            "Epoch 69, Train Loss: 0.0670\n",
            "Validation Loss: 0.1370\n",
            "Epoch 70, Train Loss: 0.0648\n",
            "Validation Loss: 0.0519\n",
            "Epoch 71, Train Loss: 0.0670\n",
            "Validation Loss: 0.1097\n",
            "Epoch 72, Train Loss: 0.0664\n",
            "Validation Loss: 0.1028\n",
            "Epoch 73, Train Loss: 0.0616\n",
            "Validation Loss: 0.0475\n",
            "Epoch 74, Train Loss: 0.0624\n",
            "Validation Loss: 0.0629\n",
            "Epoch 75, Train Loss: 0.0642\n",
            "Validation Loss: 0.0660\n",
            "Epoch 76, Train Loss: 0.0605\n",
            "Validation Loss: 0.0726\n",
            "Epoch 77, Train Loss: 0.0580\n",
            "Validation Loss: 0.1017\n",
            "Epoch 78, Train Loss: 0.0577\n",
            "Validation Loss: 0.0466\n",
            "Epoch 79, Train Loss: 0.0608\n",
            "Validation Loss: 0.0510\n",
            "Epoch 80, Train Loss: 0.0566\n",
            "Validation Loss: 0.0582\n",
            "Epoch 81, Train Loss: 0.0596\n",
            "Validation Loss: 0.0447\n",
            "Epoch 82, Train Loss: 0.0613\n",
            "Validation Loss: 0.0465\n",
            "Epoch 83, Train Loss: 0.0624\n",
            "Validation Loss: 0.0631\n",
            "Epoch 84, Train Loss: 0.0610\n",
            "Validation Loss: 0.0508\n",
            "Epoch 85, Train Loss: 0.0528\n",
            "Validation Loss: 0.0485\n",
            "Epoch 86, Train Loss: 0.0517\n",
            "Validation Loss: 0.0373\n",
            "Epoch 87, Train Loss: 0.0597\n",
            "Validation Loss: 0.0449\n",
            "Epoch 88, Train Loss: 0.0528\n",
            "Validation Loss: 0.0398\n",
            "Epoch 89, Train Loss: 0.0526\n",
            "Validation Loss: 0.0991\n",
            "Epoch 90, Train Loss: 0.0529\n",
            "Validation Loss: 0.0644\n",
            "Epoch 91, Train Loss: 0.0532\n",
            "Validation Loss: 0.0736\n",
            "Epoch 92, Train Loss: 0.0561\n",
            "Validation Loss: 0.0571\n",
            "Epoch 93, Train Loss: 0.0552\n",
            "Validation Loss: 0.0390\n",
            "Epoch 94, Train Loss: 0.0531\n",
            "Validation Loss: 0.0436\n",
            "Epoch 95, Train Loss: 0.0491\n",
            "Validation Loss: 0.0471\n",
            "Epoch 96, Train Loss: 0.0505\n",
            "Validation Loss: 0.0451\n",
            "Epoch 97, Train Loss: 0.0479\n",
            "Validation Loss: 0.0553\n",
            "Epoch 98, Train Loss: 0.0499\n",
            "Validation Loss: 0.0820\n",
            "Epoch 99, Train Loss: 0.0494\n",
            "Validation Loss: 0.0436\n",
            "Epoch 100, Train Loss: 0.0539\n",
            "Validation Loss: 0.0333\n"
          ]
        }
      ]
    },
    {
      "cell_type": "markdown",
      "source": [
        "### **11. Prediction and Visualization Utility**\n",
        "Defines a helper function to display a sample prediction alongside its input polygon and ground truth output.\n",
        "### **12. Visualize Sample Prediction**\n",
        "We apply the trained model to a sample from the validation set and display the prediction vs. ground truth.\n",
        "\n",
        "\n"
      ],
      "metadata": {
        "id": "Mkgq38mESdGn"
      }
    },
    {
      "cell_type": "code",
      "source": [
        "def predict_and_show(model, dataset, index=0):\n",
        "    model.eval()\n",
        "    with torch.no_grad():\n",
        "        input_tensor, target_tensor = dataset[index]\n",
        "        input_tensor = input_tensor.unsqueeze(0).to(device)\n",
        "        pred = model(input_tensor).squeeze(0).cpu().permute(1, 2, 0).numpy()\n",
        "        pred = np.clip(pred, 0, 1)\n",
        "\n",
        "        input_image = input_tensor[0, :3].cpu().permute(1, 2, 0).numpy()\n",
        "        target_image = target_tensor.permute(1, 2, 0).numpy()\n",
        "\n",
        "        fig, axs = plt.subplots(1, 3, figsize=(12, 4))\n",
        "        axs[0].imshow(input_image)\n",
        "        axs[0].set_title(\"Polygon Input\")\n",
        "        axs[1].imshow(pred)\n",
        "        axs[1].set_title(\"Predicted Output\")\n",
        "        axs[2].imshow(target_image)\n",
        "        axs[2].set_title(\"Ground Truth\")\n",
        "        for ax in axs:\n",
        "            ax.axis('off')\n",
        "        plt.show()\n",
        "\n",
        "# Example usage\n",
        "predict_and_show(model, val_dataset, index=0)\n",
        "import cv2\n",
        "import numpy as np\n",
        "\n"
      ],
      "metadata": {
        "colab": {
          "base_uri": "https://localhost:8080/",
          "height": 332
        },
        "id": "PUg3M6624gRo",
        "outputId": "93f2b397-84ae-4940-bd3d-82cfa1a27df0"
      },
      "execution_count": 11,
      "outputs": [
        {
          "output_type": "display_data",
          "data": {
            "text/plain": [
              "<Figure size 1200x400 with 3 Axes>"
            ],
            "image/png": "[encoded data removed]"
          },
          "metadata": {}
        }
      ]
    },
    {
      "cell_type": "markdown",
      "source": [
        "### **13. Import and Configure wandb**\n",
        "We import Weights & Biases (W&B), login (if not already), and configure the project to log metrics and images.\n",
        "### **16. Saving the Trained Model**\n",
        "Saves the final trained model to disk and logs it as an artifact on W&B for reproducibility or deployment.\n"
      ],
      "metadata": {
        "id": "ig8BTmUySmng"
      }
    },
    {
      "cell_type": "code",
      "source": [
        "import torch\n",
        "import torch.nn as nn\n",
        "import wandb\n",
        "import torchvision.utils as vutils\n",
        "\n",
        "# Initialize wandb\n",
        "wandb.init(\n",
        "    project=\"polygon-color-unet\",\n",
        "    name=\"UNet-train-run\",\n",
        "    config={\n",
        "        \"architecture\": \"UNet\",\n",
        "        \"loss_function\": \"L1Loss\",\n",
        "        \"optimizer\": \"Adam\",\n",
        "        \"learning_rate\": 1e-4,\n",
        "        \"epochs\": 100,\n",
        "        \"batch_size\": train_loader.batch_size,\n",
        "        \"input_size\": \"128x128\"\n",
        "    }\n",
        ")\n",
        "\n",
        "# Set device and training components\n",
        "device = torch.device(\"cuda\" if torch.cuda.is_available() else \"cpu\")\n",
        "model = UNet().to(device)\n",
        "optimizer = torch.optim.Adam(model.parameters(), lr=wandb.config.learning_rate)\n",
        "criterion = nn.L1Loss()\n",
        "\n",
        "# Training loop\n",
        "for epoch in range(wandb.config.epochs):\n",
        "    model.train()\n",
        "    total_loss = 0.0\n",
        "\n",
        "    for inputs, targets in train_loader:\n",
        "        inputs, targets = inputs.to(device), targets.to(device)\n",
        "        optimizer.zero_grad()\n",
        "        outputs = model(inputs)\n",
        "        loss = criterion(outputs, targets)\n",
        "        loss.backward()\n",
        "        optimizer.step()\n",
        "        total_loss += loss.item()\n",
        "\n",
        "    avg_train_loss = total_loss / len(train_loader)\n",
        "\n",
        "    # Validation phase\n",
        "    model.eval()\n",
        "    val_loss = 0.0\n",
        "    with torch.no_grad():\n",
        "        for val_inputs, val_targets in val_loader:\n",
        "            val_inputs, val_targets = val_inputs.to(device), val_targets.to(device)\n",
        "            val_outputs = model(val_inputs)\n",
        "            val_loss += criterion(val_outputs, val_targets).item()\n",
        "\n",
        "    avg_val_loss = val_loss / len(val_loader)\n",
        "\n",
        "    # Log scalar metrics\n",
        "    wandb.log({\n",
        "        \"epoch\": epoch + 1,\n",
        "        \"train_loss\": avg_train_loss,\n",
        "        \"val_loss\": avg_val_loss\n",
        "    })\n",
        "\n",
        "    # OPTIONAL: Log sample predictions to W&B (1st batch only)\n",
        "    if epoch % 10 == 0 or epoch == wandb.config.epochs - 1:\n",
        "        input_vis = val_inputs[0][:3]  # First image input polygon (3 channels)\n",
        "        pred_vis = val_outputs[0].clamp(0, 1)  # Clamp to valid range\n",
        "        target_vis = val_targets[0]\n",
        "\n",
        "        # Concatenate and send to wandb\n",
        "        wandb.log({\n",
        "            \"sample_input\": wandb.Image(input_vis.cpu(), caption=\"Polygon Input\"),\n",
        "            \"sample_prediction\": wandb.Image(pred_vis.cpu(), caption=\"Predicted Output\"),\n",
        "            \"sample_ground_truth\": wandb.Image(target_vis.cpu(), caption=\"Ground Truth\")\n",
        "        })\n",
        "\n",
        "    print(f\"Epoch [{epoch+1}/{wandb.config.epochs}] | Train Loss: {avg_train_loss:.4f} | Val Loss: {avg_val_loss:.4f}\")\n",
        "\n",
        "# Save model\n",
        "torch.save(model.state_dict(), \"latestmodel.pth\")\n",
        "wandb.save(\"latestmodel.pth\")\n"
      ],
      "metadata": {
        "colab": {
          "base_uri": "https://localhost:8080/",
          "height": 1000
        },
        "id": "LnVPFcuO4-mT",
        "outputId": "236ead08-be89-4772-d395-20df337ad711"
      },
      "execution_count": 12,
      "outputs": [
        {
          "output_type": "display_data",
          "data": {
            "text/plain": [
              "<IPython.core.display.HTML object>"
            ],
            "text/html": [
              "Tracking run with wandb version 0.21.0"
            ]
          },
          "metadata": {}
        },
        {
          "output_type": "display_data",
          "data": {
            "text/plain": [
              "<IPython.core.display.HTML object>"
            ],
            "text/html": [
              "Run data is saved locally in <code>/content/wandb/run-20250803_075318-hbr5iu4b</code>"
            ]
          },
          "metadata": {}
        },
        {
          "output_type": "display_data",
          "data": {
            "text/plain": [
              "<IPython.core.display.HTML object>"
            ],
            "text/html": [
              "Syncing run <strong><a href='https://wandb.ai/gvasusuresh004-intellipaat/polygon-color-unet/runs/hbr5iu4b' target=\"_blank\">UNet-train-run</a></strong> to <a href='https://wandb.ai/gvasusuresh004-intellipaat/polygon-color-unet' target=\"_blank\">Weights & Biases</a> (<a href='https://wandb.me/developer-guide' target=\"_blank\">docs</a>)<br>"
            ]
          },
          "metadata": {}
        },
        {
          "output_type": "display_data",
          "data": {
            "text/plain": [
              "<IPython.core.display.HTML object>"
            ],
            "text/html": [
              " View project at <a href='https://wandb.ai/gvasusuresh004-intellipaat/polygon-color-unet' target=\"_blank\">https://wandb.ai/gvasusuresh004-intellipaat/polygon-color-unet</a>"
            ]
          },
          "metadata": {}
        },
        {
          "output_type": "display_data",
          "data": {
            "text/plain": [
              "<IPython.core.display.HTML object>"
            ],
            "text/html": [
              " View run at <a href='https://wandb.ai/gvasusuresh004-intellipaat/polygon-color-unet/runs/hbr5iu4b' target=\"_blank\">https://wandb.ai/gvasusuresh004-intellipaat/polygon-color-unet/runs/hbr5iu4b</a>"
            ]
          },
          "metadata": {}
        },
        {
          "output_type": "stream",
          "name": "stdout",
          "text": [
            "Epoch [1/100] | Train Loss: 0.7694 | Val Loss: 0.9108\n",
            "Epoch [2/100] | Train Loss: 0.6381 | Val Loss: 0.8262\n",
            "Epoch [3/100] | Train Loss: 0.5652 | Val Loss: 0.7027\n",
            "Epoch [4/100] | Train Loss: 0.5031 | Val Loss: 0.5497\n",
            "Epoch [5/100] | Train Loss: 0.4514 | Val Loss: 0.4701\n",
            "Epoch [6/100] | Train Loss: 0.4074 | Val Loss: 0.3897\n",
            "Epoch [7/100] | Train Loss: 0.3724 | Val Loss: 0.3435\n",
            "Epoch [8/100] | Train Loss: 0.3437 | Val Loss: 0.3180\n",
            "Epoch [9/100] | Train Loss: 0.3190 | Val Loss: 0.2988\n",
            "Epoch [10/100] | Train Loss: 0.2935 | Val Loss: 0.2802\n",
            "Epoch [11/100] | Train Loss: 0.2698 | Val Loss: 0.2504\n",
            "Epoch [12/100] | Train Loss: 0.2491 | Val Loss: 0.2238\n",
            "Epoch [13/100] | Train Loss: 0.2385 | Val Loss: 0.2267\n",
            "Epoch [14/100] | Train Loss: 0.2152 | Val Loss: 0.1986\n",
            "Epoch [15/100] | Train Loss: 0.2062 | Val Loss: 0.1831\n",
            "Epoch [16/100] | Train Loss: 0.1894 | Val Loss: 0.1848\n",
            "Epoch [17/100] | Train Loss: 0.1723 | Val Loss: 0.1678\n",
            "Epoch [18/100] | Train Loss: 0.1651 | Val Loss: 0.1749\n",
            "Epoch [19/100] | Train Loss: 0.1626 | Val Loss: 0.1649\n",
            "Epoch [20/100] | Train Loss: 0.1453 | Val Loss: 0.1516\n",
            "Epoch [21/100] | Train Loss: 0.1380 | Val Loss: 0.1285\n",
            "Epoch [22/100] | Train Loss: 0.1294 | Val Loss: 0.1337\n",
            "Epoch [23/100] | Train Loss: 0.1223 | Val Loss: 0.1337\n",
            "Epoch [24/100] | Train Loss: 0.1190 | Val Loss: 0.1113\n",
            "Epoch [25/100] | Train Loss: 0.1106 | Val Loss: 0.1089\n",
            "Epoch [26/100] | Train Loss: 0.1014 | Val Loss: 0.1015\n",
            "Epoch [27/100] | Train Loss: 0.0970 | Val Loss: 0.0887\n",
            "Epoch [28/100] | Train Loss: 0.0958 | Val Loss: 0.0837\n",
            "Epoch [29/100] | Train Loss: 0.0986 | Val Loss: 0.0804\n",
            "Epoch [30/100] | Train Loss: 0.0929 | Val Loss: 0.0982\n",
            "Epoch [31/100] | Train Loss: 0.0870 | Val Loss: 0.0781\n",
            "Epoch [32/100] | Train Loss: 0.0878 | Val Loss: 0.0806\n",
            "Epoch [33/100] | Train Loss: 0.0915 | Val Loss: 0.0722\n",
            "Epoch [34/100] | Train Loss: 0.0930 | Val Loss: 0.0735\n",
            "Epoch [35/100] | Train Loss: 0.0821 | Val Loss: 0.0828\n",
            "Epoch [36/100] | Train Loss: 0.0849 | Val Loss: 0.0892\n",
            "Epoch [37/100] | Train Loss: 0.0789 | Val Loss: 0.0689\n",
            "Epoch [38/100] | Train Loss: 0.0767 | Val Loss: 0.1002\n",
            "Epoch [39/100] | Train Loss: 0.0782 | Val Loss: 0.0886\n",
            "Epoch [40/100] | Train Loss: 0.0779 | Val Loss: 0.0595\n",
            "Epoch [41/100] | Train Loss: 0.0813 | Val Loss: 0.0549\n",
            "Epoch [42/100] | Train Loss: 0.0914 | Val Loss: 0.0733\n",
            "Epoch [43/100] | Train Loss: 0.0761 | Val Loss: 0.0528\n",
            "Epoch [44/100] | Train Loss: 0.0793 | Val Loss: 0.0873\n",
            "Epoch [45/100] | Train Loss: 0.0828 | Val Loss: 0.0590\n",
            "Epoch [46/100] | Train Loss: 0.0776 | Val Loss: 0.0677\n",
            "Epoch [47/100] | Train Loss: 0.0735 | Val Loss: 0.0595\n",
            "Epoch [48/100] | Train Loss: 0.0779 | Val Loss: 0.0519\n",
            "Epoch [49/100] | Train Loss: 0.0757 | Val Loss: 0.0627\n",
            "Epoch [50/100] | Train Loss: 0.0803 | Val Loss: 0.0867\n",
            "Epoch [51/100] | Train Loss: 0.0708 | Val Loss: 0.0769\n",
            "Epoch [52/100] | Train Loss: 0.0718 | Val Loss: 0.0707\n",
            "Epoch [53/100] | Train Loss: 0.0701 | Val Loss: 0.0973\n",
            "Epoch [54/100] | Train Loss: 0.0817 | Val Loss: 0.1067\n",
            "Epoch [55/100] | Train Loss: 0.0674 | Val Loss: 0.0856\n",
            "Epoch [56/100] | Train Loss: 0.0635 | Val Loss: 0.1026\n",
            "Epoch [57/100] | Train Loss: 0.0685 | Val Loss: 0.0894\n",
            "Epoch [58/100] | Train Loss: 0.0687 | Val Loss: 0.1318\n",
            "Epoch [59/100] | Train Loss: 0.0668 | Val Loss: 0.0450\n",
            "Epoch [60/100] | Train Loss: 0.0678 | Val Loss: 0.0567\n",
            "Epoch [61/100] | Train Loss: 0.0644 | Val Loss: 0.0482\n",
            "Epoch [62/100] | Train Loss: 0.0650 | Val Loss: 0.0481\n",
            "Epoch [63/100] | Train Loss: 0.0644 | Val Loss: 0.0778\n",
            "Epoch [64/100] | Train Loss: 0.0608 | Val Loss: 0.0628\n",
            "Epoch [65/100] | Train Loss: 0.0636 | Val Loss: 0.0576\n",
            "Epoch [66/100] | Train Loss: 0.0639 | Val Loss: 0.0546\n",
            "Epoch [67/100] | Train Loss: 0.0652 | Val Loss: 0.1431\n",
            "Epoch [68/100] | Train Loss: 0.0619 | Val Loss: 0.1364\n",
            "Epoch [69/100] | Train Loss: 0.0621 | Val Loss: 0.0887\n",
            "Epoch [70/100] | Train Loss: 0.0645 | Val Loss: 0.0747\n",
            "Epoch [71/100] | Train Loss: 0.0671 | Val Loss: 0.0794\n",
            "Epoch [72/100] | Train Loss: 0.0646 | Val Loss: 0.0870\n",
            "Epoch [73/100] | Train Loss: 0.0619 | Val Loss: 0.0668\n",
            "Epoch [74/100] | Train Loss: 0.0628 | Val Loss: 0.0678\n",
            "Epoch [75/100] | Train Loss: 0.0586 | Val Loss: 0.0457\n",
            "Epoch [76/100] | Train Loss: 0.0646 | Val Loss: 0.0615\n",
            "Epoch [77/100] | Train Loss: 0.0592 | Val Loss: 0.0480\n",
            "Epoch [78/100] | Train Loss: 0.0586 | Val Loss: 0.1000\n",
            "Epoch [79/100] | Train Loss: 0.0574 | Val Loss: 0.0362\n",
            "Epoch [80/100] | Train Loss: 0.0664 | Val Loss: 0.0446\n",
            "Epoch [81/100] | Train Loss: 0.0682 | Val Loss: 0.0575\n",
            "Epoch [82/100] | Train Loss: 0.0606 | Val Loss: 0.0464\n",
            "Epoch [83/100] | Train Loss: 0.0560 | Val Loss: 0.0676\n",
            "Epoch [84/100] | Train Loss: 0.0511 | Val Loss: 0.0441\n",
            "Epoch [85/100] | Train Loss: 0.0571 | Val Loss: 0.0453\n",
            "Epoch [86/100] | Train Loss: 0.0522 | Val Loss: 0.0448\n",
            "Epoch [87/100] | Train Loss: 0.0558 | Val Loss: 0.0430\n",
            "Epoch [88/100] | Train Loss: 0.0541 | Val Loss: 0.0584\n",
            "Epoch [89/100] | Train Loss: 0.0545 | Val Loss: 0.0340\n",
            "Epoch [90/100] | Train Loss: 0.0550 | Val Loss: 0.0298\n",
            "Epoch [91/100] | Train Loss: 0.0479 | Val Loss: 0.0481\n",
            "Epoch [92/100] | Train Loss: 0.0502 | Val Loss: 0.0484\n",
            "Epoch [93/100] | Train Loss: 0.0577 | Val Loss: 0.0313\n",
            "Epoch [94/100] | Train Loss: 0.0490 | Val Loss: 0.0437\n",
            "Epoch [95/100] | Train Loss: 0.0487 | Val Loss: 0.0431\n",
            "Epoch [96/100] | Train Loss: 0.0502 | Val Loss: 0.0413\n",
            "Epoch [97/100] | Train Loss: 0.0467 | Val Loss: 0.0306\n",
            "Epoch [98/100] | Train Loss: 0.0524 | Val Loss: 0.0431\n",
            "Epoch [99/100] | Train Loss: 0.0533 | Val Loss: 0.0336\n",
            "Epoch [100/100] | Train Loss: 0.0488 | Val Loss: 0.0379\n"
          ]
        },
        {
          "output_type": "execute_result",
          "data": {
            "text/plain": [
              "['/content/wandb/run-20250803_075318-hbr5iu4b/files/latestmodel.pth']"
            ]
          },
          "metadata": {},
          "execution_count": 12
        }
      ]
    }
  ]
}